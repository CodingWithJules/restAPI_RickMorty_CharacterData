{
 "cells": [
  {
   "cell_type": "markdown",
   "id": "a2d77539",
   "metadata": {},
   "source": [
    "# Use Rick & Morty Rest API to define how many episodes each character appears in."
   ]
  },
  {
   "cell_type": "markdown",
   "id": "34cd8514",
   "metadata": {},
   "source": [
    "## Create CSV file from JSON data"
   ]
  },
  {
   "cell_type": "code",
   "execution_count": 72,
   "id": "7cc97c28",
   "metadata": {},
   "outputs": [],
   "source": [
    "import requests\n",
    "import pandas as pd"
   ]
  },
  {
   "cell_type": "code",
   "execution_count": 73,
   "id": "63d4ddd7",
   "metadata": {},
   "outputs": [],
   "source": [
    "baseurl = 'https://rickandmortyapi.com/api/'\n",
    "endpoint = 'character'"
   ]
  },
  {
   "cell_type": "code",
   "execution_count": 74,
   "id": "80e0bc96",
   "metadata": {},
   "outputs": [],
   "source": [
    "def main_request(baseurl, endpoint, x):\n",
    "    r = requests.get(baseurl + endpoint + f'?page={x}')\n",
    "    return r.json()"
   ]
  },
  {
   "cell_type": "code",
   "execution_count": 75,
   "id": "c9174c88",
   "metadata": {},
   "outputs": [],
   "source": [
    "def get_pages(response):\n",
    "    return response['info']['pages']"
   ]
  },
  {
   "cell_type": "code",
   "execution_count": 76,
   "id": "72f3445c",
   "metadata": {},
   "outputs": [],
   "source": [
    "def parse_json(response):\n",
    "    # CREATE A CHARACTER LIST FROM RESULTS\n",
    "    charlist = []\n",
    "    for item in response['results']:\n",
    "        # CREATE A CHARACTER DICTIONARY\n",
    "        char = {\n",
    "        'id' : item['Id'],\n",
    "        'name': item['name'],\n",
    "        'no_ep': len(item['episode'])\n",
    "        }\n",
    "        \n",
    "        # .append ALLOWS US TO ADD TO THE CHARLIST\n",
    "        charlist.append(char)\n",
    "    return charlist"
   ]
  },
  {
   "cell_type": "code",
   "execution_count": 70,
   "id": "91ec3b34",
   "metadata": {},
   "outputs": [
    {
     "name": "stdout",
     "output_type": "stream",
     "text": [
      "1\n",
      "2\n",
      "3\n",
      "4\n",
      "5\n",
      "6\n",
      "7\n",
      "8\n",
      "9\n",
      "10\n",
      "11\n",
      "12\n",
      "13\n",
      "14\n",
      "15\n",
      "16\n",
      "17\n",
      "18\n",
      "19\n",
      "20\n",
      "21\n",
      "22\n",
      "23\n",
      "24\n",
      "25\n",
      "26\n",
      "27\n",
      "28\n",
      "29\n",
      "30\n",
      "31\n",
      "32\n",
      "33\n",
      "34\n",
      "35\n",
      "36\n",
      "37\n",
      "38\n",
      "39\n",
      "40\n",
      "41\n",
      "42\n",
      "826\n"
     ]
    }
   ],
   "source": [
    "mainlist =[]\n",
    "data = main_request(baseurl, endpoint,1 )\n",
    "\n",
    "# PRINT PAGE COUNT 1x1 .. Start at 1. \n",
    "for x in range(1, get_pages(data)+1):\n",
    "    print(x)\n",
    "    mainlist.extend(parse_json(main_request(baseurl, endpoint, x)))\n",
    "\n",
    "# CHECK TO SEE IF WE HAVE CORRECT NUMBER OF RESULTS\n",
    "print(len(mainlist))\n"
   ]
  },
  {
   "cell_type": "code",
   "execution_count": 77,
   "id": "af593f7b",
   "metadata": {},
   "outputs": [],
   "source": [
    "df = pd.DataFrame(mainlist)\n",
    "\n",
    "df.to_csv('charlist.csv', index=False)"
   ]
  }
 ],
 "metadata": {
  "kernelspec": {
   "display_name": "Python 3 (ipykernel)",
   "language": "python",
   "name": "python3"
  },
  "language_info": {
   "codemirror_mode": {
    "name": "ipython",
    "version": 3
   },
   "file_extension": ".py",
   "mimetype": "text/x-python",
   "name": "python",
   "nbconvert_exporter": "python",
   "pygments_lexer": "ipython3",
   "version": "3.11.3"
  }
 },
 "nbformat": 4,
 "nbformat_minor": 5
}
